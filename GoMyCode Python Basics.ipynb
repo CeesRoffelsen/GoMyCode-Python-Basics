{
 "cells": [
  {
   "cell_type": "code",
   "execution_count": 1,
   "id": "ec842b0a",
   "metadata": {},
   "outputs": [
    {
     "name": "stdout",
     "output_type": "stream",
     "text": [
      "Enter your first name:\n",
      "Cees\n",
      "Enter your last name:\n",
      "Roffelsen\n",
      "Roffelsen Cees\n"
     ]
    }
   ],
   "source": [
    "'''Question 1\n",
    "\n",
    "Write a Python program which accepts the user's first and last name and print them in reverse order with a space between them.'''\n",
    "print('Enter your first name:')\n",
    "x = input()\n",
    "print('Enter your last name:')\n",
    "y = input()\n",
    "print(y, x)\n"
   ]
  },
  {
   "cell_type": "code",
   "execution_count": 2,
   "id": "373c09b5",
   "metadata": {},
   "outputs": [
    {
     "name": "stdout",
     "output_type": "stream",
     "text": [
      "5\n",
      "615\n"
     ]
    }
   ],
   "source": [
    "'''Question 2\n",
    "\n",
    "Write a Python program that accepts an integer (n) and computes the value of n+nn+nnn\n",
    "Sample value of n is 5 \n",
    "Expected Result : 615 (5+55+555)'''\n",
    "x = input()\n",
    "n = int(x)\n",
    "a = n*11\n",
    "b = n*111\n",
    "print (n + a + b)"
   ]
  },
  {
   "cell_type": "code",
   "execution_count": 3,
   "id": "81cb6a16",
   "metadata": {},
   "outputs": [
    {
     "name": "stdout",
     "output_type": "stream",
     "text": [
      "5\n",
      "The number is odd\n"
     ]
    }
   ],
   "source": [
    "'''Question 3\n",
    "\n",
    "Write a Python program to find whether a given number (accept from the user) is even or odd, \n",
    "print out an appropriate message to the user.'''\n",
    "\n",
    "x = input()\n",
    "num = int(x)\n",
    "if num % 2 == 0: \n",
    "    print(\"The number is even\")  \n",
    "else:\n",
    "    print(\"The number is odd\")"
   ]
  },
  {
   "cell_type": "code",
   "execution_count": 4,
   "id": "d254a1a0",
   "metadata": {},
   "outputs": [
    {
     "name": "stdout",
     "output_type": "stream",
     "text": [
      "[2002, 2009, 2016, 2023, 2030, 2037, 2044, 2051, 2058, 2065, 2072, 2079, 2086, 2093, 2100, 2107, 2114, 2121, 2128, 2135, 2142, 2149, 2156, 2163, 2170, 2177, 2184, 2191, 2198, 2205, 2212, 2219, 2226, 2233, 2240, 2247, 2254, 2261, 2268, 2275, 2282, 2289, 2296, 2303, 2310, 2317, 2324, 2331, 2338, 2345, 2352, 2359, 2366, 2373, 2380, 2387, 2394, 2401, 2408, 2415, 2422, 2429, 2436, 2443, 2450, 2457, 2464, 2471, 2478, 2485, 2492, 2499, 2506, 2513, 2520, 2527, 2534, 2541, 2548, 2555, 2562, 2569, 2576, 2583, 2590, 2597, 2604, 2611, 2618, 2625, 2632, 2639, 2646, 2653, 2660, 2667, 2674, 2681, 2688, 2695, 2702, 2709, 2716, 2723, 2730, 2737, 2744, 2751, 2758, 2765, 2772, 2779, 2786, 2793, 2800, 2807, 2814, 2821, 2828, 2835, 2842, 2849, 2856, 2863, 2870, 2877, 2884, 2891, 2898, 2905, 2912, 2919, 2926, 2933, 2940, 2947, 2954, 2961, 2968, 2975, 2982, 2989, 2996, 3003, 3010, 3017, 3024, 3031, 3038, 3045, 3052, 3059, 3066, 3073, 3080, 3087, 3094, 3101, 3108, 3115, 3122, 3129, 3136, 3143, 3150, 3157, 3164, 3171, 3178, 3185, 3192, 3199]\n"
     ]
    }
   ],
   "source": [
    "'''Question 4\n",
    "\n",
    "Write a program which will find all such numbers which are divisible by 7 but are not a multiple of 5, \n",
    "between 2000 and 3200 (both included). The numbers obtained should be printed in a sequence on a single line.\n",
    "\n",
    "Hints: Consider use range(#begin, #end) method '''\n",
    "y = []\n",
    "for x in range(2000,3201):\n",
    "    if x%7 == 0:\n",
    "        if x//5 != 0:\n",
    "            y.append(x)\n",
    "print (y)"
   ]
  },
  {
   "cell_type": "code",
   "execution_count": 20,
   "id": "31433d1f",
   "metadata": {},
   "outputs": [
    {
     "name": "stdout",
     "output_type": "stream",
     "text": [
      "4\n",
      "The factorial of 4 is 24\n"
     ]
    }
   ],
   "source": [
    "'''Question 5\n",
    "\n",
    "Write a program that can compute the factorial of a given number. The results should be printed in a sequence on a single line. \n",
    "Suppose the following input is supplied to the program: 8 Then, the output should be: 40320 \n",
    "\n",
    "Hint: The factorial function (symbol: !) multiplies all whole numbers from our chosen number down to 1. Examples: \n",
    "\n",
    "4! = 4 × 3 × 2 × 1\n",
    "\n",
    "8! = 8 × 7 × 6 × 5 × 4 × 3 × 2 × 1\n",
    "\n",
    "1! = 1\n",
    "\n",
    "0! = 1 (by convention)'''\n",
    "x = input()\n",
    "x = int(x)\n",
    "factorial = 1\n",
    "if x<0:\n",
    "    print ('Invalid')\n",
    "elif x ==0:\n",
    "    print ('Factorial is 1')\n",
    "else:\n",
    "    for y in range (1,x+1):\n",
    "        factorial = factorial*y\n",
    "    print ('The factorial of', x, 'is', factorial)"
   ]
  },
  {
   "cell_type": "code",
   "execution_count": 24,
   "id": "df41721f",
   "metadata": {},
   "outputs": [
    {
     "name": "stdout",
     "output_type": "stream",
     "text": [
      "hello team\n",
      "hlota\n"
     ]
    }
   ],
   "source": [
    "'''Write a program to remove the characters which have odd index values of a given string.\n",
    "\n",
    "for example: string =\"hello team\"\n",
    "\n",
    "the result should be: hlota'''\n",
    "\n",
    "x = input()\n",
    "a = ''\n",
    "for y in range(len(x)):\n",
    "    if y % 2 == 0:\n",
    "        a = a + x[y]\n",
    "print (a)"
   ]
  },
  {
   "cell_type": "code",
   "execution_count": 30,
   "id": "63fda589",
   "metadata": {},
   "outputs": [
    {
     "name": "stdout",
     "output_type": "stream",
     "text": [
      "139\n",
      "125.1\n"
     ]
    }
   ],
   "source": [
    "'''Question 7\n",
    "\n",
    "In this challenge, you must discount a price according to its value.\n",
    "\n",
    "- If the price is 500 or above, there will be a 50% discount.\n",
    "\n",
    "- If the price is between 200 and 500 (200 inclusive), there will be a 30% discount.\n",
    "\n",
    "- If the price is less than 200, there will be a 10% discount.'''\n",
    "\n",
    "x = input()\n",
    "x = int(x)\n",
    "if x >= 500:\n",
    "    x = x - (x/2)\n",
    "elif x >= 200:\n",
    "    if x < 500:\n",
    "        x = x - ((x/10)*3)\n",
    "else:\n",
    "    x = x - (x/10)\n",
    "print (x)"
   ]
  },
  {
   "cell_type": "code",
   "execution_count": null,
   "id": "25653f9e",
   "metadata": {},
   "outputs": [],
   "source": []
  }
 ],
 "metadata": {
  "kernelspec": {
   "display_name": "Python 3",
   "language": "python",
   "name": "python3"
  },
  "language_info": {
   "codemirror_mode": {
    "name": "ipython",
    "version": 3
   },
   "file_extension": ".py",
   "mimetype": "text/x-python",
   "name": "python",
   "nbconvert_exporter": "python",
   "pygments_lexer": "ipython3",
   "version": "3.8.8"
  }
 },
 "nbformat": 4,
 "nbformat_minor": 5
}
