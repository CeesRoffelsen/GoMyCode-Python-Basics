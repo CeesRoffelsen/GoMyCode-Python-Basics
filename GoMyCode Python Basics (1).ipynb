{
 "cells": [
  {
   "cell_type": "code",
   "execution_count": 1,
   "id": "ec842b0a",
   "metadata": {},
   "outputs": [
    {
     "name": "stdout",
     "output_type": "stream",
     "text": [
      "Enter your first name:\n",
      "Cees\n",
      "Enter your last name:\n",
      "Roffelsen\n",
      "nesleffoR seeC\n"
     ]
    }
   ],
   "source": [
    "'''Question 1\n",
    "\n",
    "Write a Python program which accepts the user's first and last name and print them in reverse order with a space between them.'''\n",
    "print('Enter your first name:')\n",
    "x = input()\n",
    "print('Enter your last name:')\n",
    "y = input()\n",
    "print(y[::-1], x[::-1])\n"
   ]
  },
  {
   "cell_type": "code",
   "execution_count": 2,
   "id": "373c09b5",
   "metadata": {},
   "outputs": [
    {
     "name": "stdout",
     "output_type": "stream",
     "text": [
      "5\n",
      "615\n"
     ]
    }
   ],
   "source": [
    "'''Question 2\n",
    "\n",
    "Write a Python program that accepts an integer (n) and computes the value of n+nn+nnn\n",
    "Sample value of n is 5 \n",
    "Expected Result : 615 (5+55+555)'''\n",
    "n = int(input())\n",
    "num= (n+ ((n*10)+n) + ((n*100)+(n*10)+n))\n",
    "print (num)"
   ]
  },
  {
   "cell_type": "code",
   "execution_count": 3,
   "id": "81cb6a16",
   "metadata": {},
   "outputs": [
    {
     "name": "stdout",
     "output_type": "stream",
     "text": [
      "7\n",
      "The number is odd\n"
     ]
    }
   ],
   "source": [
    "'''Question 3\n",
    "\n",
    "Write a Python program to find whether a given number (accept from the user) is even or odd, \n",
    "print out an appropriate message to the user.'''\n",
    "\n",
    "x = input()\n",
    "num = int(x)\n",
    "if num % 2 == 0: \n",
    "    print(\"The number is even\")  \n",
    "else:\n",
    "    print(\"The number is odd\")"
   ]
  },
  {
   "cell_type": "code",
   "execution_count": 4,
   "id": "d254a1a0",
   "metadata": {},
   "outputs": [
    {
     "name": "stdout",
     "output_type": "stream",
     "text": [
      "2002200920162023203020372044205120582065207220792086209321002107211421212128213521422149215621632170217721842191219822052212221922262233224022472254226122682275228222892296230323102317232423312338234523522359236623732380238723942401240824152422242924362443245024572464247124782485249224992506251325202527253425412548255525622569257625832590259726042611261826252632263926462653266026672674268126882695270227092716272327302737274427512758276527722779278627932800280728142821282828352842284928562863287028772884289128982905291229192926293329402947295429612968297529822989299630033010301730243031303830453052305930663073308030873094310131083115312231293136314331503157316431713178318531923199"
     ]
    }
   ],
   "source": [
    "'''Question 4\n",
    "\n",
    "Write a program which will find all such numbers which are divisible by 7 but are not a multiple of 5, \n",
    "between 2000 and 3200 (both included). The numbers obtained should be printed in a sequence on a single line.\n",
    "\n",
    "Hints: Consider use range(#begin, #end) method '''\n",
    "for x in range(2000,3201):\n",
    "    if x%7 == 0:\n",
    "        if x//5 != 0:\n",
    "            print (x, end = '') "
   ]
  },
  {
   "cell_type": "code",
   "execution_count": 5,
   "id": "31433d1f",
   "metadata": {},
   "outputs": [
    {
     "name": "stdout",
     "output_type": "stream",
     "text": [
      "8\n",
      "Factorial of 8 is 40320\n"
     ]
    }
   ],
   "source": [
    "'''Question 5\n",
    "\n",
    "Write a program that can compute the factorial of a given number. The results should be printed in a sequence on a single line. \n",
    "Suppose the following input is supplied to the program: 8 Then, the output should be: 40320 \n",
    "\n",
    "Hint: The factorial function (symbol: !) multiplies all whole numbers from our chosen number down to 1. Examples: \n",
    "\n",
    "4! = 4 × 3 × 2 × 1\n",
    "\n",
    "8! = 8 × 7 × 6 × 5 × 4 × 3 × 2 × 1\n",
    "\n",
    "1! = 1\n",
    "\n",
    "0! = 1 (by convention)'''\n",
    "import math\n",
    "x = int(input())\n",
    "print(\"Factorial of\", x , \"is\", math.factorial(x))\n"
   ]
  },
  {
   "cell_type": "code",
   "execution_count": 6,
   "id": "df41721f",
   "metadata": {},
   "outputs": [
    {
     "name": "stdout",
     "output_type": "stream",
     "text": [
      "hello team\n",
      "hlota\n"
     ]
    }
   ],
   "source": [
    "'''Write a program to remove the characters which have odd index values of a given string.\n",
    "\n",
    "for example: string =\"hello team\"\n",
    "\n",
    "the result should be: hlota'''\n",
    "\n",
    "x = input()\n",
    "a = ''\n",
    "for y in range(len(x)):\n",
    "    if y % 2 == 0:\n",
    "        a = a + x[y]\n",
    "print (a)"
   ]
  },
  {
   "cell_type": "code",
   "execution_count": 7,
   "id": "63fda589",
   "metadata": {},
   "outputs": [
    {
     "name": "stdout",
     "output_type": "stream",
     "text": [
      "300\n",
      "210.0\n"
     ]
    }
   ],
   "source": [
    "'''Question 7\n",
    "\n",
    "In this challenge, you must discount a price according to its value.\n",
    "\n",
    "- If the price is 500 or above, there will be a 50% discount.\n",
    "\n",
    "- If the price is between 200 and 500 (200 inclusive), there will be a 30% discount.\n",
    "\n",
    "- If the price is less than 200, there will be a 10% discount.'''\n",
    "\n",
    "x = input()\n",
    "x = int(x)\n",
    "if x >= 500:\n",
    "    x = x*0.5\n",
    "elif x >= 200:\n",
    "    if x < 500:\n",
    "        x = x - (x*0.3)\n",
    "else:\n",
    "    x = x - (x/10)\n",
    "print (x)"
   ]
  },
  {
   "cell_type": "code",
   "execution_count": null,
   "id": "25653f9e",
   "metadata": {},
   "outputs": [],
   "source": []
  }
 ],
 "metadata": {
  "kernelspec": {
   "display_name": "Python 3",
   "language": "python",
   "name": "python3"
  },
  "language_info": {
   "codemirror_mode": {
    "name": "ipython",
    "version": 3
   },
   "file_extension": ".py",
   "mimetype": "text/x-python",
   "name": "python",
   "nbconvert_exporter": "python",
   "pygments_lexer": "ipython3",
   "version": "3.8.8"
  }
 },
 "nbformat": 4,
 "nbformat_minor": 5
}
